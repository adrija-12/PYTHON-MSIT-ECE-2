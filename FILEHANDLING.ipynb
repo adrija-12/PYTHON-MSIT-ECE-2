{
 "cells": [
  {
   "cell_type": "code",
   "execution_count": 1,
   "metadata": {},
   "outputs": [],
   "source": [
    "import os\n",
    "class FileHandling:\n",
    "    def main():\n",
    "        x=str(input(\"Enter a file name -> \"))\n",
    "        y=str(input(\"Enter a text in file -> \"))\n",
    "        b=open(x,\"w\")\n",
    "        b.write(y)\n",
    "        b.close()\n",
    "        print(x,\"\\nFile created successfully\")\n",
    "        print(\"\\n\\t\\t-----Reading File Contents-----\")\n",
    "        z=open(x,\"r\")\n",
    "        print(\"\\n\")\n",
    "        print(z.read())\n",
    "    def FileDelete():\n",
    "        xyz=input(\"Enter the file name to delete -> \")\n",
    "        a=os.remove(xyz)\n",
    "        print(\"File deleted successfully\")\n",
    "FileHandling.main()\n",
    "FileHandling.FileDelete()"
   ]
  }
 ],
 "metadata": {
  "kernelspec": {
   "display_name": "base",
   "language": "python",
   "name": "python3"
  },
  "language_info": {
   "codemirror_mode": {
    "name": "ipython",
    "version": 3
   },
   "file_extension": ".py",
   "mimetype": "text/x-python",
   "name": "python",
   "nbconvert_exporter": "python",
   "pygments_lexer": "ipython3",
   "version": "3.10.9"
  },
  "orig_nbformat": 4
 },
 "nbformat": 4,
 "nbformat_minor": 2
}
