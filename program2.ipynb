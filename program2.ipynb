{
 "cells": [
  {
   "cell_type": "code",
   "execution_count": 1,
   "metadata": {},
   "outputs": [
    {
     "name": "stdout",
     "output_type": "stream",
     "text": [
      "My name is Adrija,I study inMSIT college in kolkata.\n",
      "        My Makaut roll number is 14200322020.\n",
      "        \n"
     ]
    }
   ],
   "source": [
    "class Name:\n",
    "    def main():\n",
    "        a=20\n",
    "        b=\"MSIT\"\n",
    "        c=\"Adrija\"\n",
    "        d=\"ECE\"\n",
    "        e=14200322020\n",
    "        final_str=\"\"\"My name is {2},I study in{1} college in kolkata.\n",
    "        My Makaut roll number is {4}.\n",
    "        \"\"\"\n",
    "        abc=final_str.format(a,b,c,d,e)\n",
    "        print(abc)\n",
    "Name.main()"
   ]
  }
 ],
 "metadata": {
  "kernelspec": {
   "display_name": "base",
   "language": "python",
   "name": "python3"
  },
  "language_info": {
   "codemirror_mode": {
    "name": "ipython",
    "version": 3
   },
   "file_extension": ".py",
   "mimetype": "text/x-python",
   "name": "python",
   "nbconvert_exporter": "python",
   "pygments_lexer": "ipython3",
   "version": "3.10.9"
  },
  "orig_nbformat": 4
 },
 "nbformat": 4,
 "nbformat_minor": 2
}
